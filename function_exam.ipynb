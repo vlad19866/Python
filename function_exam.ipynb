{
  "nbformat": 4,
  "nbformat_minor": 0,
  "metadata": {
    "colab": {
      "name": "function_exam.ipynb",
      "provenance": [],
      "collapsed_sections": [],
      "authorship_tag": "ABX9TyMbYNQipl7xOR6GazuffggS"
    },
    "kernelspec": {
      "name": "python3",
      "display_name": "Python 3"
    },
    "language_info": {
      "name": "python"
    }
  },
  "cells": [
    {
      "cell_type": "markdown",
      "source": [
        "Напишите функцию с именем times ten. Эта функция должна принимать аргумент и показывать результат произведения аргумента на 1О\n",
        "\n"
      ],
      "metadata": {
        "id": "4cWS6elQU3WF"
      }
    },
    {
      "cell_type": "code",
      "execution_count": null,
      "metadata": {
        "id": "8hCso41OUu8M"
      },
      "outputs": [],
      "source": [
        "num = 5\n",
        "\n",
        "# функция times_ten \n",
        "def times_ten(num):\n",
        "  print(num * 10)\n",
        "\n",
        "# вызываю функуцию times_ten\n",
        "times_ten(num)"
      ]
    },
    {
      "cell_type": "markdown",
      "source": [
        "Исследуйте приведенный ниже заголовок функции, затем напишите инструкцию, которая вызывает эту функцию, передавая 12 в качестве аргумента.\n",
        "def show_value(quantity):"
      ],
      "metadata": {
        "id": "Z-GvjbXpXxf2"
      }
    },
    {
      "cell_type": "code",
      "source": [
        "\n",
        "def main():\n",
        "  quantity = 12\n",
        "  show_value(quantity)\n",
        "\n",
        "\n",
        "def show_value(quantity):\n",
        "  print(quantity)\n",
        "\n",
        "\n",
        "# вызываю функцию\n",
        "main()"
      ],
      "metadata": {
        "colab": {
          "base_uri": "https://localhost:8080/"
        },
        "id": "dDGDpvMSZNXN",
        "outputId": "ca4f0864-6e9e-4d75-8526-4d5ae8efc434"
      },
      "execution_count": null,
      "outputs": [
        {
          "output_type": "stream",
          "name": "stdout",
          "text": [
            "12\n"
          ]
        }
      ]
    }
  ]
}