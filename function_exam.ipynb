{
  "nbformat": 4,
  "nbformat_minor": 0,
  "metadata": {
    "colab": {
      "name": "function_exam.ipynb",
      "provenance": [],
      "collapsed_sections": [],
      "authorship_tag": "ABX9TyMzjANxYS6UIt3FcqDOkMaP",
      "include_colab_link": true
    },
    "kernelspec": {
      "name": "python3",
      "display_name": "Python 3"
    },
    "language_info": {
      "name": "python"
    }
  },
  "cells": [
    {
      "cell_type": "markdown",
      "metadata": {
        "id": "view-in-github",
        "colab_type": "text"
      },
      "source": [
        "<a href=\"https://colab.research.google.com/github/vlad19866/Python/blob/master/function_exam.ipynb\" target=\"_parent\"><img src=\"https://colab.research.google.com/assets/colab-badge.svg\" alt=\"Open In Colab\"/></a>"
      ]
    },
    {
      "cell_type": "markdown",
      "source": [
        "# Алгоритмический тренажер"
      ],
      "metadata": {
        "id": "_AMOhPkPxaaT"
      }
    },
    {
      "cell_type": "markdown",
      "source": [
        "Напишите функцию с именем times ten. Эта функция должна принимать аргумент и показывать результат произведения аргумента на 1О\n",
        "\n"
      ],
      "metadata": {
        "id": "4cWS6elQU3WF"
      }
    },
    {
      "cell_type": "code",
      "execution_count": null,
      "metadata": {
        "id": "8hCso41OUu8M"
      },
      "outputs": [],
      "source": [
        "num = 5\n",
        "\n",
        "# функция times_ten \n",
        "def times_ten(num):\n",
        "  print(num * 10)\n",
        "\n",
        "# вызываю функуцию times_ten\n",
        "times_ten(num)"
      ]
    },
    {
      "cell_type": "markdown",
      "source": [
        "Исследуйте приведенный ниже заголовок функции, затем напишите инструкцию, которая вызывает эту функцию, передавая 12 в качестве аргумента.\n",
        "def show_value(quantity):"
      ],
      "metadata": {
        "id": "Z-GvjbXpXxf2"
      }
    },
    {
      "cell_type": "code",
      "source": [
        "\n",
        "def main():\n",
        "  quantity = 12\n",
        "  show_value(quantity)\n",
        "\n",
        "\n",
        "def show_value(quantity):\n",
        "  print(quantity)\n",
        "\n",
        "\n",
        "# вызываю функцию\n",
        "main()"
      ],
      "metadata": {
        "colab": {
          "base_uri": "https://localhost:8080/"
        },
        "id": "dDGDpvMSZNXN",
        "outputId": "ca4f0864-6e9e-4d75-8526-4d5ae8efc434"
      },
      "execution_count": null,
      "outputs": [
        {
          "output_type": "stream",
          "name": "stdout",
          "text": [
            "12\n"
          ]
        }
      ]
    },
    {
      "cell_type": "markdown",
      "source": [
        "Что покажет программа ниже"
      ],
      "metadata": {
        "id": "VgSzFSqK7XcF"
      }
    },
    {
      "cell_type": "code",
      "source": [
        "#Что покажет программа ниже\n",
        "\n",
        "def main():\n",
        "  x = 1\n",
        "  y = 3.4\n",
        "  print('X равно: ', x, 'Y равно: ', y)\n",
        "  change_us(x, y)\n",
        "  print('Вернул значение:', x, y)\n",
        "\n",
        "def change_us(a, b):\n",
        "  a = 0\n",
        "  b = 0\n",
        "  print('A равно: ', a, 'B равно: ', b)\n",
        "\n",
        "main()"
      ],
      "metadata": {
        "colab": {
          "base_uri": "https://localhost:8080/"
        },
        "id": "JGaJsNmm7SY8",
        "outputId": "f6e21f6e-09d8-42fe-b317-dec989383312"
      },
      "execution_count": 3,
      "outputs": [
        {
          "output_type": "stream",
          "name": "stdout",
          "text": [
            "X равно:  1 Y равно:  3.4\n",
            "A равно:  0 B равно:  0\n",
            "Вернул значение: 1 3.4\n"
          ]
        }
      ]
    },
    {
      "cell_type": "markdown",
      "source": [
        "# Упражнения по программированию"
      ],
      "metadata": {
        "id": "tIZnTqszxjI7"
      }
    }
  ]
}